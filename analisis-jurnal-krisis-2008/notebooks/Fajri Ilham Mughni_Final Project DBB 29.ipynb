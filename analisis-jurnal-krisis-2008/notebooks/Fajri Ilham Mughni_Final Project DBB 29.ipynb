{
 "cells": [
  {
   "cell_type": "markdown",
   "metadata": {},
   "source": [
    "# Library"
   ]
  },
  {
   "cell_type": "code",
   "execution_count": 23,
   "metadata": {},
   "outputs": [],
   "source": [
    "import pandas as pd\n",
    "import scipy.stats as stats\n",
    "import matplotlib.pyplot as plt \n",
    "import numpy as np \n",
    "import seaborn as sns \n",
    "from sklearn.model_selection import train_test_split "
   ]
  },
  {
   "cell_type": "code",
   "execution_count": 24,
   "metadata": {},
   "outputs": [],
   "source": [
    "df = pd.read_csv(\"data.csv\")"
   ]
  },
  {
   "cell_type": "code",
   "execution_count": 25,
   "metadata": {},
   "outputs": [
    {
     "data": {
      "text/html": [
       "<div>\n",
       "<style scoped>\n",
       "    .dataframe tbody tr th:only-of-type {\n",
       "        vertical-align: middle;\n",
       "    }\n",
       "\n",
       "    .dataframe tbody tr th {\n",
       "        vertical-align: top;\n",
       "    }\n",
       "\n",
       "    .dataframe thead th {\n",
       "        text-align: right;\n",
       "    }\n",
       "</style>\n",
       "<table border=\"1\" class=\"dataframe\">\n",
       "  <thead>\n",
       "    <tr style=\"text-align: right;\">\n",
       "      <th></th>\n",
       "      <th>year</th>\n",
       "      <th>month</th>\n",
       "      <th>duoarea</th>\n",
       "      <th>area-name</th>\n",
       "      <th>product</th>\n",
       "      <th>product-name</th>\n",
       "      <th>process</th>\n",
       "      <th>process-name</th>\n",
       "      <th>series</th>\n",
       "      <th>series-description</th>\n",
       "      <th>value</th>\n",
       "      <th>units</th>\n",
       "    </tr>\n",
       "  </thead>\n",
       "  <tbody>\n",
       "    <tr>\n",
       "      <th>0</th>\n",
       "      <td>2014</td>\n",
       "      <td>1</td>\n",
       "      <td>SFL</td>\n",
       "      <td>FLORIDA</td>\n",
       "      <td>EPG0</td>\n",
       "      <td>Natural Gas</td>\n",
       "      <td>VCS</td>\n",
       "      <td>Commercial Consumption</td>\n",
       "      <td>N3020FL2</td>\n",
       "      <td>Natural Gas Deliveries to Commercial Consumers...</td>\n",
       "      <td>6605.0</td>\n",
       "      <td>MMCF</td>\n",
       "    </tr>\n",
       "    <tr>\n",
       "      <th>1</th>\n",
       "      <td>2014</td>\n",
       "      <td>1</td>\n",
       "      <td>SNH</td>\n",
       "      <td>USA-NH</td>\n",
       "      <td>EPG0</td>\n",
       "      <td>Natural Gas</td>\n",
       "      <td>VCS</td>\n",
       "      <td>Commercial Consumption</td>\n",
       "      <td>N3020NH2</td>\n",
       "      <td>Natural Gas Deliveries to Commercial Consumers...</td>\n",
       "      <td>1691.0</td>\n",
       "      <td>MMCF</td>\n",
       "    </tr>\n",
       "    <tr>\n",
       "      <th>2</th>\n",
       "      <td>2014</td>\n",
       "      <td>1</td>\n",
       "      <td>SOR</td>\n",
       "      <td>USA-OR</td>\n",
       "      <td>EPG0</td>\n",
       "      <td>Natural Gas</td>\n",
       "      <td>VCS</td>\n",
       "      <td>Commercial Consumption</td>\n",
       "      <td>N3020OR2</td>\n",
       "      <td>Natural Gas Deliveries to Commercial Consumers...</td>\n",
       "      <td>4711.0</td>\n",
       "      <td>MMCF</td>\n",
       "    </tr>\n",
       "    <tr>\n",
       "      <th>3</th>\n",
       "      <td>2014</td>\n",
       "      <td>1</td>\n",
       "      <td>SDE</td>\n",
       "      <td>USA-DE</td>\n",
       "      <td>EPG0</td>\n",
       "      <td>Natural Gas</td>\n",
       "      <td>VCS</td>\n",
       "      <td>Commercial Consumption</td>\n",
       "      <td>N3020DE2</td>\n",
       "      <td>Natural Gas Deliveries to Commercial Consumers...</td>\n",
       "      <td>2128.0</td>\n",
       "      <td>MMCF</td>\n",
       "    </tr>\n",
       "    <tr>\n",
       "      <th>4</th>\n",
       "      <td>2014</td>\n",
       "      <td>1</td>\n",
       "      <td>SAZ</td>\n",
       "      <td>USA-AZ</td>\n",
       "      <td>EPG0</td>\n",
       "      <td>Natural Gas</td>\n",
       "      <td>VCS</td>\n",
       "      <td>Commercial Consumption</td>\n",
       "      <td>N3020AZ2</td>\n",
       "      <td>Natural Gas Deliveries to Commercial Consumers...</td>\n",
       "      <td>3915.0</td>\n",
       "      <td>MMCF</td>\n",
       "    </tr>\n",
       "  </tbody>\n",
       "</table>\n",
       "</div>"
      ],
      "text/plain": [
       "   year  month duoarea area-name product product-name process  \\\n",
       "0  2014      1     SFL   FLORIDA    EPG0  Natural Gas     VCS   \n",
       "1  2014      1     SNH    USA-NH    EPG0  Natural Gas     VCS   \n",
       "2  2014      1     SOR    USA-OR    EPG0  Natural Gas     VCS   \n",
       "3  2014      1     SDE    USA-DE    EPG0  Natural Gas     VCS   \n",
       "4  2014      1     SAZ    USA-AZ    EPG0  Natural Gas     VCS   \n",
       "\n",
       "             process-name    series  \\\n",
       "0  Commercial Consumption  N3020FL2   \n",
       "1  Commercial Consumption  N3020NH2   \n",
       "2  Commercial Consumption  N3020OR2   \n",
       "3  Commercial Consumption  N3020DE2   \n",
       "4  Commercial Consumption  N3020AZ2   \n",
       "\n",
       "                                  series-description   value units  \n",
       "0  Natural Gas Deliveries to Commercial Consumers...  6605.0  MMCF  \n",
       "1  Natural Gas Deliveries to Commercial Consumers...  1691.0  MMCF  \n",
       "2  Natural Gas Deliveries to Commercial Consumers...  4711.0  MMCF  \n",
       "3  Natural Gas Deliveries to Commercial Consumers...  2128.0  MMCF  \n",
       "4  Natural Gas Deliveries to Commercial Consumers...  3915.0  MMCF  "
      ]
     },
     "execution_count": 25,
     "metadata": {},
     "output_type": "execute_result"
    }
   ],
   "source": [
    "df.head()"
   ]
  },
  {
   "cell_type": "code",
   "execution_count": 26,
   "metadata": {},
   "outputs": [
    {
     "name": "stdout",
     "output_type": "stream",
     "text": [
      "<class 'pandas.core.frame.DataFrame'>\n",
      "RangeIndex: 37994 entries, 0 to 37993\n",
      "Data columns (total 12 columns):\n",
      " #   Column              Non-Null Count  Dtype  \n",
      "---  ------              --------------  -----  \n",
      " 0   year                37994 non-null  int64  \n",
      " 1   month               37994 non-null  int64  \n",
      " 2   duoarea             37994 non-null  object \n",
      " 3   area-name           37994 non-null  object \n",
      " 4   product             37994 non-null  object \n",
      " 5   product-name        37994 non-null  object \n",
      " 6   process             37994 non-null  object \n",
      " 7   process-name        37994 non-null  object \n",
      " 8   series              37994 non-null  object \n",
      " 9   series-description  37994 non-null  object \n",
      " 10  value               37518 non-null  float64\n",
      " 11  units               37994 non-null  object \n",
      "dtypes: float64(1), int64(2), object(9)\n",
      "memory usage: 3.5+ MB\n"
     ]
    }
   ],
   "source": [
    "df.info()"
   ]
  },
  {
   "cell_type": "code",
   "execution_count": 27,
   "metadata": {},
   "outputs": [],
   "source": [
    "# Menambahkan kolom baru 'year_month' dari gabungan 'year' dan 'month'\n",
    "df['year_month'] = df['year'].astype(str) + '-' + df['month'].astype(str).str.zfill(2)"
   ]
  },
  {
   "cell_type": "code",
   "execution_count": 28,
   "metadata": {},
   "outputs": [
    {
     "data": {
      "text/html": [
       "<div>\n",
       "<style scoped>\n",
       "    .dataframe tbody tr th:only-of-type {\n",
       "        vertical-align: middle;\n",
       "    }\n",
       "\n",
       "    .dataframe tbody tr th {\n",
       "        vertical-align: top;\n",
       "    }\n",
       "\n",
       "    .dataframe thead th {\n",
       "        text-align: right;\n",
       "    }\n",
       "</style>\n",
       "<table border=\"1\" class=\"dataframe\">\n",
       "  <thead>\n",
       "    <tr style=\"text-align: right;\">\n",
       "      <th></th>\n",
       "      <th>year_month</th>\n",
       "    </tr>\n",
       "  </thead>\n",
       "  <tbody>\n",
       "    <tr>\n",
       "      <th>0</th>\n",
       "      <td>2014-01</td>\n",
       "    </tr>\n",
       "    <tr>\n",
       "      <th>1</th>\n",
       "      <td>2014-01</td>\n",
       "    </tr>\n",
       "    <tr>\n",
       "      <th>2</th>\n",
       "      <td>2014-01</td>\n",
       "    </tr>\n",
       "    <tr>\n",
       "      <th>3</th>\n",
       "      <td>2014-01</td>\n",
       "    </tr>\n",
       "    <tr>\n",
       "      <th>4</th>\n",
       "      <td>2014-01</td>\n",
       "    </tr>\n",
       "  </tbody>\n",
       "</table>\n",
       "</div>"
      ],
      "text/plain": [
       "  year_month\n",
       "0    2014-01\n",
       "1    2014-01\n",
       "2    2014-01\n",
       "3    2014-01\n",
       "4    2014-01"
      ]
     },
     "execution_count": 28,
     "metadata": {},
     "output_type": "execute_result"
    }
   ],
   "source": [
    "df[['year_month']].head()"
   ]
  },
  {
   "cell_type": "code",
   "execution_count": 29,
   "metadata": {},
   "outputs": [
    {
     "data": {
      "text/plain": [
       "1.0"
      ]
     },
     "execution_count": 29,
     "metadata": {},
     "output_type": "execute_result"
    }
   ],
   "source": [
    "len(df.drop_duplicates()) / len(df)"
   ]
  },
  {
   "cell_type": "code",
   "execution_count": 30,
   "metadata": {},
   "outputs": [
    {
     "data": {
      "text/plain": [
       "value    \n",
       "0.0          1085\n",
       "1.0           439\n",
       "8.0           230\n",
       "2.0           223\n",
       "6.0           216\n",
       "             ... \n",
       "7264.0          1\n",
       "7262.0          1\n",
       "7258.0          1\n",
       "2903574.0       1\n",
       "2880714.0       1\n",
       "Name: count, Length: 18923, dtype: int64"
      ]
     },
     "execution_count": 30,
     "metadata": {},
     "output_type": "execute_result"
    }
   ],
   "source": [
    "df[['value']].value_counts()"
   ]
  },
  {
   "cell_type": "code",
   "execution_count": 31,
   "metadata": {},
   "outputs": [
    {
     "data": {
      "text/plain": [
       "4.108543454229615"
      ]
     },
     "execution_count": 31,
     "metadata": {},
     "output_type": "execute_result"
    }
   ],
   "source": [
    "# Menghitung persentase nilai 0.0 di kolom value\n",
    "100 * len(df[(df['value'] == 0.0) | (df['value'].isna())]) / len(df)"
   ]
  },
  {
   "cell_type": "code",
   "execution_count": 32,
   "metadata": {},
   "outputs": [
    {
     "data": {
      "text/plain": [
       "year                    0\n",
       "month                   0\n",
       "duoarea                 0\n",
       "area-name               0\n",
       "product                 0\n",
       "product-name            0\n",
       "process                 0\n",
       "process-name            0\n",
       "series                  0\n",
       "series-description      0\n",
       "value                 476\n",
       "units                   0\n",
       "year_month              0\n",
       "dtype: int64"
      ]
     },
     "execution_count": 32,
     "metadata": {},
     "output_type": "execute_result"
    }
   ],
   "source": [
    "df.isna().sum()"
   ]
  },
  {
   "cell_type": "code",
   "execution_count": 33,
   "metadata": {},
   "outputs": [
    {
     "data": {
      "text/html": [
       "<div>\n",
       "<style scoped>\n",
       "    .dataframe tbody tr th:only-of-type {\n",
       "        vertical-align: middle;\n",
       "    }\n",
       "\n",
       "    .dataframe tbody tr th {\n",
       "        vertical-align: top;\n",
       "    }\n",
       "\n",
       "    .dataframe thead th {\n",
       "        text-align: right;\n",
       "    }\n",
       "</style>\n",
       "<table border=\"1\" class=\"dataframe\">\n",
       "  <thead>\n",
       "    <tr style=\"text-align: right;\">\n",
       "      <th></th>\n",
       "      <th>year</th>\n",
       "      <th>month</th>\n",
       "      <th>duoarea</th>\n",
       "      <th>area-name</th>\n",
       "      <th>product</th>\n",
       "      <th>product-name</th>\n",
       "      <th>process</th>\n",
       "      <th>process-name</th>\n",
       "      <th>series</th>\n",
       "      <th>series-description</th>\n",
       "      <th>value</th>\n",
       "      <th>units</th>\n",
       "      <th>year_month</th>\n",
       "    </tr>\n",
       "  </thead>\n",
       "  <tbody>\n",
       "    <tr>\n",
       "      <th>18</th>\n",
       "      <td>2014</td>\n",
       "      <td>1</td>\n",
       "      <td>SDC</td>\n",
       "      <td>USA-DC</td>\n",
       "      <td>EPG0</td>\n",
       "      <td>Natural Gas</td>\n",
       "      <td>VEU</td>\n",
       "      <td>Electric Power Consumption</td>\n",
       "      <td>N3045DC2</td>\n",
       "      <td>District of Columbia Natural Gas Deliveries to...</td>\n",
       "      <td>NaN</td>\n",
       "      <td>MMCF</td>\n",
       "      <td>2014-01</td>\n",
       "    </tr>\n",
       "    <tr>\n",
       "      <th>135</th>\n",
       "      <td>2014</td>\n",
       "      <td>1</td>\n",
       "      <td>SHI</td>\n",
       "      <td>USA-HI</td>\n",
       "      <td>EPG0</td>\n",
       "      <td>Natural Gas</td>\n",
       "      <td>VEU</td>\n",
       "      <td>Electric Power Consumption</td>\n",
       "      <td>N3045HI2</td>\n",
       "      <td>Hawaii Natural Gas Deliveries to Electric Powe...</td>\n",
       "      <td>NaN</td>\n",
       "      <td>MMCF</td>\n",
       "      <td>2014-01</td>\n",
       "    </tr>\n",
       "    <tr>\n",
       "      <th>518</th>\n",
       "      <td>2014</td>\n",
       "      <td>2</td>\n",
       "      <td>SHI</td>\n",
       "      <td>USA-HI</td>\n",
       "      <td>EPG0</td>\n",
       "      <td>Natural Gas</td>\n",
       "      <td>VEU</td>\n",
       "      <td>Electric Power Consumption</td>\n",
       "      <td>N3045HI2</td>\n",
       "      <td>Hawaii Natural Gas Deliveries to Electric Powe...</td>\n",
       "      <td>NaN</td>\n",
       "      <td>MMCF</td>\n",
       "      <td>2014-02</td>\n",
       "    </tr>\n",
       "    <tr>\n",
       "      <th>597</th>\n",
       "      <td>2014</td>\n",
       "      <td>2</td>\n",
       "      <td>SDC</td>\n",
       "      <td>USA-DC</td>\n",
       "      <td>EPG0</td>\n",
       "      <td>Natural Gas</td>\n",
       "      <td>VEU</td>\n",
       "      <td>Electric Power Consumption</td>\n",
       "      <td>N3045DC2</td>\n",
       "      <td>District of Columbia Natural Gas Deliveries to...</td>\n",
       "      <td>NaN</td>\n",
       "      <td>MMCF</td>\n",
       "      <td>2014-02</td>\n",
       "    </tr>\n",
       "    <tr>\n",
       "      <th>778</th>\n",
       "      <td>2014</td>\n",
       "      <td>3</td>\n",
       "      <td>SHI</td>\n",
       "      <td>USA-HI</td>\n",
       "      <td>EPG0</td>\n",
       "      <td>Natural Gas</td>\n",
       "      <td>VEU</td>\n",
       "      <td>Electric Power Consumption</td>\n",
       "      <td>N3045HI2</td>\n",
       "      <td>Hawaii Natural Gas Deliveries to Electric Powe...</td>\n",
       "      <td>NaN</td>\n",
       "      <td>MMCF</td>\n",
       "      <td>2014-03</td>\n",
       "    </tr>\n",
       "    <tr>\n",
       "      <th>...</th>\n",
       "      <td>...</td>\n",
       "      <td>...</td>\n",
       "      <td>...</td>\n",
       "      <td>...</td>\n",
       "      <td>...</td>\n",
       "      <td>...</td>\n",
       "      <td>...</td>\n",
       "      <td>...</td>\n",
       "      <td>...</td>\n",
       "      <td>...</td>\n",
       "      <td>...</td>\n",
       "      <td>...</td>\n",
       "      <td>...</td>\n",
       "    </tr>\n",
       "    <tr>\n",
       "      <th>37945</th>\n",
       "      <td>2024</td>\n",
       "      <td>1</td>\n",
       "      <td>SWV</td>\n",
       "      <td>USA-WV</td>\n",
       "      <td>EPG0</td>\n",
       "      <td>Natural Gas</td>\n",
       "      <td>VRS</td>\n",
       "      <td>Residential Consumption</td>\n",
       "      <td>N3010WV2</td>\n",
       "      <td>West Virginia Natural Gas Residential Consumpt...</td>\n",
       "      <td>NaN</td>\n",
       "      <td>MMCF</td>\n",
       "      <td>2024-01</td>\n",
       "    </tr>\n",
       "    <tr>\n",
       "      <th>37964</th>\n",
       "      <td>2024</td>\n",
       "      <td>1</td>\n",
       "      <td>SHI</td>\n",
       "      <td>USA-HI</td>\n",
       "      <td>EPG0</td>\n",
       "      <td>Natural Gas</td>\n",
       "      <td>VEU</td>\n",
       "      <td>Electric Power Consumption</td>\n",
       "      <td>N3045HI2</td>\n",
       "      <td>Hawaii Natural Gas Deliveries to Electric Powe...</td>\n",
       "      <td>NaN</td>\n",
       "      <td>MMCF</td>\n",
       "      <td>2024-01</td>\n",
       "    </tr>\n",
       "    <tr>\n",
       "      <th>37967</th>\n",
       "      <td>2024</td>\n",
       "      <td>1</td>\n",
       "      <td>SNV</td>\n",
       "      <td>USA-NV</td>\n",
       "      <td>EPG0</td>\n",
       "      <td>Natural Gas</td>\n",
       "      <td>VGT</td>\n",
       "      <td>Delivered to Consumers</td>\n",
       "      <td>N3060NV2</td>\n",
       "      <td>Natural Gas Delivered to Consumers in Nevada (...</td>\n",
       "      <td>NaN</td>\n",
       "      <td>MMCF</td>\n",
       "      <td>2024-01</td>\n",
       "    </tr>\n",
       "    <tr>\n",
       "      <th>37982</th>\n",
       "      <td>2024</td>\n",
       "      <td>1</td>\n",
       "      <td>SFL</td>\n",
       "      <td>FLORIDA</td>\n",
       "      <td>EPG0</td>\n",
       "      <td>Natural Gas</td>\n",
       "      <td>VIN</td>\n",
       "      <td>Industrial Consumption</td>\n",
       "      <td>N3035FL2</td>\n",
       "      <td>Florida Natural Gas Industrial Consumption (MMcf)</td>\n",
       "      <td>NaN</td>\n",
       "      <td>MMCF</td>\n",
       "      <td>2024-01</td>\n",
       "    </tr>\n",
       "    <tr>\n",
       "      <th>37986</th>\n",
       "      <td>2024</td>\n",
       "      <td>1</td>\n",
       "      <td>SIL</td>\n",
       "      <td>USA-IL</td>\n",
       "      <td>EPG0</td>\n",
       "      <td>Natural Gas</td>\n",
       "      <td>VRS</td>\n",
       "      <td>Residential Consumption</td>\n",
       "      <td>N3010IL2</td>\n",
       "      <td>Illinois Natural Gas Residential Consumption (...</td>\n",
       "      <td>NaN</td>\n",
       "      <td>MMCF</td>\n",
       "      <td>2024-01</td>\n",
       "    </tr>\n",
       "  </tbody>\n",
       "</table>\n",
       "<p>476 rows × 13 columns</p>\n",
       "</div>"
      ],
      "text/plain": [
       "       year  month duoarea area-name product product-name process  \\\n",
       "18     2014      1     SDC    USA-DC    EPG0  Natural Gas     VEU   \n",
       "135    2014      1     SHI    USA-HI    EPG0  Natural Gas     VEU   \n",
       "518    2014      2     SHI    USA-HI    EPG0  Natural Gas     VEU   \n",
       "597    2014      2     SDC    USA-DC    EPG0  Natural Gas     VEU   \n",
       "778    2014      3     SHI    USA-HI    EPG0  Natural Gas     VEU   \n",
       "...     ...    ...     ...       ...     ...          ...     ...   \n",
       "37945  2024      1     SWV    USA-WV    EPG0  Natural Gas     VRS   \n",
       "37964  2024      1     SHI    USA-HI    EPG0  Natural Gas     VEU   \n",
       "37967  2024      1     SNV    USA-NV    EPG0  Natural Gas     VGT   \n",
       "37982  2024      1     SFL   FLORIDA    EPG0  Natural Gas     VIN   \n",
       "37986  2024      1     SIL    USA-IL    EPG0  Natural Gas     VRS   \n",
       "\n",
       "                     process-name    series  \\\n",
       "18     Electric Power Consumption  N3045DC2   \n",
       "135    Electric Power Consumption  N3045HI2   \n",
       "518    Electric Power Consumption  N3045HI2   \n",
       "597    Electric Power Consumption  N3045DC2   \n",
       "778    Electric Power Consumption  N3045HI2   \n",
       "...                           ...       ...   \n",
       "37945     Residential Consumption  N3010WV2   \n",
       "37964  Electric Power Consumption  N3045HI2   \n",
       "37967      Delivered to Consumers  N3060NV2   \n",
       "37982      Industrial Consumption  N3035FL2   \n",
       "37986     Residential Consumption  N3010IL2   \n",
       "\n",
       "                                      series-description  value units  \\\n",
       "18     District of Columbia Natural Gas Deliveries to...    NaN  MMCF   \n",
       "135    Hawaii Natural Gas Deliveries to Electric Powe...    NaN  MMCF   \n",
       "518    Hawaii Natural Gas Deliveries to Electric Powe...    NaN  MMCF   \n",
       "597    District of Columbia Natural Gas Deliveries to...    NaN  MMCF   \n",
       "778    Hawaii Natural Gas Deliveries to Electric Powe...    NaN  MMCF   \n",
       "...                                                  ...    ...   ...   \n",
       "37945  West Virginia Natural Gas Residential Consumpt...    NaN  MMCF   \n",
       "37964  Hawaii Natural Gas Deliveries to Electric Powe...    NaN  MMCF   \n",
       "37967  Natural Gas Delivered to Consumers in Nevada (...    NaN  MMCF   \n",
       "37982  Florida Natural Gas Industrial Consumption (MMcf)    NaN  MMCF   \n",
       "37986  Illinois Natural Gas Residential Consumption (...    NaN  MMCF   \n",
       "\n",
       "      year_month  \n",
       "18       2014-01  \n",
       "135      2014-01  \n",
       "518      2014-02  \n",
       "597      2014-02  \n",
       "778      2014-03  \n",
       "...          ...  \n",
       "37945    2024-01  \n",
       "37964    2024-01  \n",
       "37967    2024-01  \n",
       "37982    2024-01  \n",
       "37986    2024-01  \n",
       "\n",
       "[476 rows x 13 columns]"
      ]
     },
     "execution_count": 33,
     "metadata": {},
     "output_type": "execute_result"
    }
   ],
   "source": [
    "df[df.isna().any(axis=1)]"
   ]
  },
  {
   "cell_type": "code",
   "execution_count": null,
   "metadata": {},
   "outputs": [],
   "source": []
  },
  {
   "cell_type": "code",
   "execution_count": 34,
   "metadata": {},
   "outputs": [
    {
     "name": "stdout",
     "output_type": "stream",
     "text": [
      "============= year =================\n"
     ]
    },
    {
     "data": {
      "text/plain": [
       "year\n",
       "2014    3768\n",
       "2015    3768\n",
       "2016    3768\n",
       "2017    3768\n",
       "2018    3768\n",
       "2019    3768\n",
       "2020    3768\n",
       "2021    3768\n",
       "2022    3768\n",
       "2023    3768\n",
       "2024     314\n",
       "Name: count, dtype: int64"
      ]
     },
     "metadata": {},
     "output_type": "display_data"
    },
    {
     "name": "stdout",
     "output_type": "stream",
     "text": [
      "\n",
      "============= month =================\n"
     ]
    },
    {
     "data": {
      "text/plain": [
       "month\n",
       "1     3454\n",
       "2     3140\n",
       "3     3140\n",
       "4     3140\n",
       "5     3140\n",
       "6     3140\n",
       "7     3140\n",
       "8     3140\n",
       "9     3140\n",
       "10    3140\n",
       "11    3140\n",
       "12    3140\n",
       "Name: count, dtype: int64"
      ]
     },
     "metadata": {},
     "output_type": "display_data"
    },
    {
     "name": "stdout",
     "output_type": "stream",
     "text": [
      "\n",
      "============= duoarea =================\n"
     ]
    },
    {
     "data": {
      "text/plain": [
       "duoarea\n",
       "NUS    968\n",
       "SFL    726\n",
       "SOR    726\n",
       "SNH    726\n",
       "SAZ    726\n",
       "SWV    726\n",
       "SHI    726\n",
       "SNM    726\n",
       "SMI    726\n",
       "SMT    726\n",
       "SVT    726\n",
       "SME    726\n",
       "SIN    726\n",
       "SMS    726\n",
       "SNE    726\n",
       "SDC    726\n",
       "SAR    726\n",
       "SNC    726\n",
       "SOK    726\n",
       "SDE    726\n",
       "SCT    726\n",
       "SWI    726\n",
       "SNJ    726\n",
       "SRI    726\n",
       "SMO    726\n",
       "SWA    726\n",
       "SLA    726\n",
       "SMD    726\n",
       "SKY    726\n",
       "STN    726\n",
       "SMN    726\n",
       "SUT    726\n",
       "SIL    726\n",
       "SAL    726\n",
       "SPA    726\n",
       "SID    726\n",
       "SMA    726\n",
       "SOH    726\n",
       "SAK    726\n",
       "SSC    726\n",
       "SWY    726\n",
       "STX    726\n",
       "SND    726\n",
       "SVA    726\n",
       "SIA    726\n",
       "SCA    726\n",
       "SNV    726\n",
       "SGA    726\n",
       "SNY    726\n",
       "SSD    726\n",
       "SKS    726\n",
       "SCO    726\n",
       "Name: count, dtype: int64"
      ]
     },
     "metadata": {},
     "output_type": "display_data"
    },
    {
     "name": "stdout",
     "output_type": "stream",
     "text": [
      "\n",
      "============= area-name =================\n"
     ]
    },
    {
     "data": {
      "text/plain": [
       "area-name\n",
       "U.S.             968\n",
       "FLORIDA          726\n",
       "USA-OR           726\n",
       "USA-NH           726\n",
       "USA-AZ           726\n",
       "USA-WV           726\n",
       "USA-HI           726\n",
       "USA-NM           726\n",
       "USA-MI           726\n",
       "USA-MT           726\n",
       "USA-VT           726\n",
       "USA-ME           726\n",
       "USA-IN           726\n",
       "USA-MS           726\n",
       "USA-NE           726\n",
       "USA-DC           726\n",
       "USA-AR           726\n",
       "USA-NC           726\n",
       "USA-OK           726\n",
       "USA-DE           726\n",
       "USA-CT           726\n",
       "USA-WI           726\n",
       "USA-NJ           726\n",
       "USA-RI           726\n",
       "USA-MO           726\n",
       "WASHINGTON       726\n",
       "USA-LA           726\n",
       "USA-MD           726\n",
       "USA-KY           726\n",
       "USA-TN           726\n",
       "MINNESOTA        726\n",
       "USA-UT           726\n",
       "USA-IL           726\n",
       "USA-AL           726\n",
       "USA-PA           726\n",
       "USA-ID           726\n",
       "MASSACHUSETTS    726\n",
       "OHIO             726\n",
       "USA-AK           726\n",
       "USA-SC           726\n",
       "USA-WY           726\n",
       "TEXAS            726\n",
       "USA-ND           726\n",
       "USA-VA           726\n",
       "USA-IA           726\n",
       "CALIFORNIA       726\n",
       "USA-NV           726\n",
       "USA-GA           726\n",
       "NEW YORK         726\n",
       "USA-SD           726\n",
       "USA-KS           726\n",
       "COLORADO         726\n",
       "Name: count, dtype: int64"
      ]
     },
     "metadata": {},
     "output_type": "display_data"
    },
    {
     "name": "stdout",
     "output_type": "stream",
     "text": [
      "\n",
      "============= product =================\n"
     ]
    },
    {
     "data": {
      "text/plain": [
       "product\n",
       "EPG0    37994\n",
       "Name: count, dtype: int64"
      ]
     },
     "metadata": {},
     "output_type": "display_data"
    },
    {
     "name": "stdout",
     "output_type": "stream",
     "text": [
      "\n",
      "============= product-name =================\n"
     ]
    },
    {
     "data": {
      "text/plain": [
       "product-name\n",
       "Natural Gas    37994\n",
       "Name: count, dtype: int64"
      ]
     },
     "metadata": {},
     "output_type": "display_data"
    },
    {
     "name": "stdout",
     "output_type": "stream",
     "text": [
      "\n",
      "============= process =================\n"
     ]
    },
    {
     "data": {
      "text/plain": [
       "process\n",
       "VCS    6292\n",
       "VDV    6292\n",
       "VEU    6292\n",
       "VGT    6292\n",
       "VIN    6292\n",
       "VRS    6292\n",
       "VGP     121\n",
       "VGL     121\n",
       "Name: count, dtype: int64"
      ]
     },
     "metadata": {},
     "output_type": "display_data"
    },
    {
     "name": "stdout",
     "output_type": "stream",
     "text": [
      "\n",
      "============= process-name =================\n"
     ]
    },
    {
     "data": {
      "text/plain": [
       "process-name\n",
       "Commercial Consumption              6292\n",
       "Vehicle Fuel Consumption            6292\n",
       "Electric Power Consumption          6292\n",
       "Delivered to Consumers              6292\n",
       "Industrial Consumption              6292\n",
       "Residential Consumption             6292\n",
       "Pipeline Fuel Consumption            121\n",
       "Lease and Plant Fuel Consumption     121\n",
       "Name: count, dtype: int64"
      ]
     },
     "metadata": {},
     "output_type": "display_data"
    },
    {
     "name": "stdout",
     "output_type": "stream",
     "text": [
      "\n",
      "============= series =================\n"
     ]
    },
    {
     "data": {
      "text/plain": [
       "series\n",
       "N3010WV2        121\n",
       "N3020FL2        121\n",
       "N3020NH2        121\n",
       "N3020OR2        121\n",
       "N3020DE2        121\n",
       "               ... \n",
       "NA1570_SIN_2    121\n",
       "NA1570_SME_2    121\n",
       "NA1570_SFL_2    121\n",
       "NA1570_SVT_2    121\n",
       "NA1570_SDE_2    121\n",
       "Name: count, Length: 314, dtype: int64"
      ]
     },
     "metadata": {},
     "output_type": "display_data"
    },
    {
     "name": "stdout",
     "output_type": "stream",
     "text": [
      "\n",
      "============= series-description =================\n"
     ]
    },
    {
     "data": {
      "text/plain": [
       "series-description\n",
       "West Virginia Natural Gas Residential Consumption (MMcf)                                                        121\n",
       "Natural Gas Deliveries to Commercial Consumers (Including Vehicle Fuel through 1996) in Florida (MMcf)          121\n",
       "Natural Gas Deliveries to Commercial Consumers (Including Vehicle Fuel through 1996) in New Hampshire (MMcf)    121\n",
       "Natural Gas Deliveries to Commercial Consumers (Including Vehicle Fuel through 1996) in Oregon (MMcf)           121\n",
       "Natural Gas Deliveries to Commercial Consumers (Including Vehicle Fuel through 1996) in Delaware (MMcf)         121\n",
       "                                                                                                               ... \n",
       "Indiana Natural Gas Vehicle Fuel Consumption (MMcf)                                                             121\n",
       "Maine Natural Gas Vehicle Fuel Consumption (MMcf)                                                               121\n",
       "Florida Natural Gas Vehicle Fuel Consumption (MMcf)                                                             121\n",
       "Vermont Natural Gas Vehicle Fuel Consumption (MMcf)                                                             121\n",
       "Delaware Natural Gas Vehicle Fuel Consumption (MMcf)                                                            121\n",
       "Name: count, Length: 314, dtype: int64"
      ]
     },
     "metadata": {},
     "output_type": "display_data"
    },
    {
     "name": "stdout",
     "output_type": "stream",
     "text": [
      "\n",
      "============= value =================\n"
     ]
    },
    {
     "data": {
      "text/plain": [
       "value\n",
       "0.0        1085\n",
       "1.0         439\n",
       "8.0         230\n",
       "2.0         223\n",
       "6.0         216\n",
       "           ... \n",
       "6304.0        1\n",
       "13221.0       1\n",
       "7367.0        1\n",
       "12875.0       1\n",
       "8558.0        1\n",
       "Name: count, Length: 18923, dtype: int64"
      ]
     },
     "metadata": {},
     "output_type": "display_data"
    },
    {
     "name": "stdout",
     "output_type": "stream",
     "text": [
      "\n",
      "============= units =================\n"
     ]
    },
    {
     "data": {
      "text/plain": [
       "units\n",
       "MMCF    37994\n",
       "Name: count, dtype: int64"
      ]
     },
     "metadata": {},
     "output_type": "display_data"
    },
    {
     "name": "stdout",
     "output_type": "stream",
     "text": [
      "\n",
      "============= year_month =================\n"
     ]
    },
    {
     "data": {
      "text/plain": [
       "year_month\n",
       "2014-01    314\n",
       "2014-02    314\n",
       "2014-03    314\n",
       "2014-04    314\n",
       "2014-05    314\n",
       "          ... \n",
       "2023-09    314\n",
       "2023-10    314\n",
       "2023-11    314\n",
       "2023-12    314\n",
       "2024-01    314\n",
       "Name: count, Length: 121, dtype: int64"
      ]
     },
     "metadata": {},
     "output_type": "display_data"
    },
    {
     "name": "stdout",
     "output_type": "stream",
     "text": [
      "\n"
     ]
    }
   ],
   "source": [
    "for column in df.columns:\n",
    "    print(f\"============= {column} =================\")\n",
    "    display(df[column].value_counts())\n",
    "    print()"
   ]
  },
  {
   "cell_type": "code",
   "execution_count": 35,
   "metadata": {},
   "outputs": [
    {
     "data": {
      "text/plain": [
       "np.float64(4723.0)"
      ]
     },
     "execution_count": 35,
     "metadata": {},
     "output_type": "execute_result"
    }
   ],
   "source": [
    "# Menghitung median value dari data yang tidak bernilai 0.0 pada dataset\n",
    "median_value = df[(df['value'] != 0.0) & (~df['value'].isna())]['value'].median()\n",
    "median_value"
   ]
  },
  {
   "cell_type": "markdown",
   "metadata": {},
   "source": [
    "## Data Cleaning"
   ]
  },
  {
   "cell_type": "code",
   "execution_count": 36,
   "metadata": {},
   "outputs": [],
   "source": [
    "df_copy = df.copy()"
   ]
  },
  {
   "cell_type": "code",
   "execution_count": 37,
   "metadata": {},
   "outputs": [],
   "source": [
    "# Mengisi nilai missing (baik -1 maupun NaN) pada kolom Rating dengan pengetahuan median dari data train\n",
    "df_copy['value'] = df['value'].apply(lambda x: median_value if x == 0.0 or pd.isna(x) else x)"
   ]
  },
  {
   "cell_type": "code",
   "execution_count": 38,
   "metadata": {},
   "outputs": [
    {
     "data": {
      "text/plain": [
       "year                  0\n",
       "month                 0\n",
       "duoarea               0\n",
       "area-name             0\n",
       "product               0\n",
       "product-name          0\n",
       "process               0\n",
       "process-name          0\n",
       "series                0\n",
       "series-description    0\n",
       "value                 0\n",
       "units                 0\n",
       "year_month            0\n",
       "dtype: int64"
      ]
     },
     "execution_count": 38,
     "metadata": {},
     "output_type": "execute_result"
    }
   ],
   "source": [
    "df_copy.isna().sum()"
   ]
  },
  {
   "cell_type": "code",
   "execution_count": 39,
   "metadata": {},
   "outputs": [
    {
     "data": {
      "text/html": [
       "<div>\n",
       "<style scoped>\n",
       "    .dataframe tbody tr th:only-of-type {\n",
       "        vertical-align: middle;\n",
       "    }\n",
       "\n",
       "    .dataframe tbody tr th {\n",
       "        vertical-align: top;\n",
       "    }\n",
       "\n",
       "    .dataframe thead th {\n",
       "        text-align: right;\n",
       "    }\n",
       "</style>\n",
       "<table border=\"1\" class=\"dataframe\">\n",
       "  <thead>\n",
       "    <tr style=\"text-align: right;\">\n",
       "      <th></th>\n",
       "      <th>year</th>\n",
       "      <th>month</th>\n",
       "      <th>value</th>\n",
       "    </tr>\n",
       "  </thead>\n",
       "  <tbody>\n",
       "    <tr>\n",
       "      <th>count</th>\n",
       "      <td>37994.000000</td>\n",
       "      <td>37994.000000</td>\n",
       "      <td>3.799400e+04</td>\n",
       "    </tr>\n",
       "    <tr>\n",
       "      <th>mean</th>\n",
       "      <td>2018.545455</td>\n",
       "      <td>6.454545</td>\n",
       "      <td>2.953011e+04</td>\n",
       "    </tr>\n",
       "    <tr>\n",
       "      <th>std</th>\n",
       "      <td>2.903442</td>\n",
       "      <td>3.473677</td>\n",
       "      <td>1.494765e+05</td>\n",
       "    </tr>\n",
       "    <tr>\n",
       "      <th>min</th>\n",
       "      <td>2014.000000</td>\n",
       "      <td>1.000000</td>\n",
       "      <td>1.000000e+00</td>\n",
       "    </tr>\n",
       "    <tr>\n",
       "      <th>25%</th>\n",
       "      <td>2016.000000</td>\n",
       "      <td>3.000000</td>\n",
       "      <td>1.148250e+03</td>\n",
       "    </tr>\n",
       "    <tr>\n",
       "      <th>50%</th>\n",
       "      <td>2019.000000</td>\n",
       "      <td>6.000000</td>\n",
       "      <td>4.723000e+03</td>\n",
       "    </tr>\n",
       "    <tr>\n",
       "      <th>75%</th>\n",
       "      <td>2021.000000</td>\n",
       "      <td>9.000000</td>\n",
       "      <td>1.589525e+04</td>\n",
       "    </tr>\n",
       "    <tr>\n",
       "      <th>max</th>\n",
       "      <td>2024.000000</td>\n",
       "      <td>12.000000</td>\n",
       "      <td>3.391775e+06</td>\n",
       "    </tr>\n",
       "  </tbody>\n",
       "</table>\n",
       "</div>"
      ],
      "text/plain": [
       "               year         month         value\n",
       "count  37994.000000  37994.000000  3.799400e+04\n",
       "mean    2018.545455      6.454545  2.953011e+04\n",
       "std        2.903442      3.473677  1.494765e+05\n",
       "min     2014.000000      1.000000  1.000000e+00\n",
       "25%     2016.000000      3.000000  1.148250e+03\n",
       "50%     2019.000000      6.000000  4.723000e+03\n",
       "75%     2021.000000      9.000000  1.589525e+04\n",
       "max     2024.000000     12.000000  3.391775e+06"
      ]
     },
     "execution_count": 39,
     "metadata": {},
     "output_type": "execute_result"
    }
   ],
   "source": [
    "df_copy.describe()"
   ]
  },
  {
   "cell_type": "code",
   "execution_count": 52,
   "metadata": {},
   "outputs": [
    {
     "name": "stdout",
     "output_type": "stream",
     "text": [
      "before : (37994, 7)\n",
      "next : (37994, 7)\n",
      "droped : 0\n"
     ]
    }
   ],
   "source": [
    "df_missing_cleaned = df_copy.copy()\n",
    "print(f\"before : {df_copy.shape}\")\n",
    "df_copy.dropna(how='any', inplace=True)\n",
    "print(f\"next : {df_copy.shape}\")\n",
    "print(f\"droped : {df_missing_cleaned.shape[0] - df_copy.shape[0]}\")"
   ]
  },
  {
   "cell_type": "code",
   "execution_count": 40,
   "metadata": {},
   "outputs": [],
   "source": [
    "def check_plot(df, variable):\n",
    "    # fungsi mengambil kerangka data (df) dan\n",
    "    # variabel yang diminati sebagai argumen\n",
    "\n",
    "    # tentukan ukuran gambar\n",
    "    plt.figure(figsize=(16, 4))\n",
    "\n",
    "    # histogram\n",
    "    plt.subplot(1, 3, 1)\n",
    "    sns.histplot(df[variable], bins=30)\n",
    "    plt.title('Histogram')\n",
    "\n",
    "    # plot Q-Q\n",
    "    plt.subplot(1, 3, 2)\n",
    "    stats.probplot(df[variable], dist=\"norm\", plot=plt)\n",
    "    plt.ylabel('Variable quantiles')\n",
    "\n",
    "    # box plot\n",
    "    plt.subplot(1, 3, 3)\n",
    "    sns.boxplot(y=df[variable])\n",
    "    plt.title('Boxplot')\n",
    "\n",
    "    plt.show()"
   ]
  },
  {
   "cell_type": "code",
   "execution_count": 53,
   "metadata": {},
   "outputs": [
    {
     "data": {
      "image/png": "[encoded data removed]",
      "text/plain": [
       "<Figure size 1600x400 with 3 Axes>"
      ]
     },
     "metadata": {},
     "output_type": "display_data"
    }
   ],
   "source": [
    "check_plot(df_missing_cleaned, 'value')"
   ]
  },
  {
   "cell_type": "code",
   "execution_count": 42,
   "metadata": {},
   "outputs": [
    {
     "name": "stdout",
     "output_type": "stream",
     "text": [
      "1 unique values for units\n",
      "1 unique values for product\n",
      "1 unique values for product-name\n"
     ]
    },
    {
     "data": {
      "text/html": [
       "<div>\n",
       "<style scoped>\n",
       "    .dataframe tbody tr th:only-of-type {\n",
       "        vertical-align: middle;\n",
       "    }\n",
       "\n",
       "    .dataframe tbody tr th {\n",
       "        vertical-align: top;\n",
       "    }\n",
       "\n",
       "    .dataframe thead th {\n",
       "        text-align: right;\n",
       "    }\n",
       "</style>\n",
       "<table border=\"1\" class=\"dataframe\">\n",
       "  <thead>\n",
       "    <tr style=\"text-align: right;\">\n",
       "      <th></th>\n",
       "      <th>year</th>\n",
       "      <th>month</th>\n",
       "      <th>duoarea</th>\n",
       "      <th>area-name</th>\n",
       "      <th>process</th>\n",
       "      <th>process-name</th>\n",
       "      <th>series</th>\n",
       "      <th>series-description</th>\n",
       "      <th>value</th>\n",
       "      <th>year_month</th>\n",
       "    </tr>\n",
       "  </thead>\n",
       "  <tbody>\n",
       "    <tr>\n",
       "      <th>0</th>\n",
       "      <td>2014</td>\n",
       "      <td>1</td>\n",
       "      <td>SFL</td>\n",
       "      <td>FLORIDA</td>\n",
       "      <td>VCS</td>\n",
       "      <td>Commercial Consumption</td>\n",
       "      <td>N3020FL2</td>\n",
       "      <td>Natural Gas Deliveries to Commercial Consumers...</td>\n",
       "      <td>6605.0</td>\n",
       "      <td>2014-01</td>\n",
       "    </tr>\n",
       "  </tbody>\n",
       "</table>\n",
       "</div>"
      ],
      "text/plain": [
       "   year  month duoarea area-name process            process-name    series  \\\n",
       "0  2014      1     SFL   FLORIDA     VCS  Commercial Consumption  N3020FL2   \n",
       "\n",
       "                                  series-description   value year_month  \n",
       "0  Natural Gas Deliveries to Commercial Consumers...  6605.0    2014-01  "
      ]
     },
     "execution_count": 42,
     "metadata": {},
     "output_type": "execute_result"
    }
   ],
   "source": [
    "for column in ['units', 'product', 'product-name'] :\n",
    "    print(f\"{df_copy[column].nunique()} unique values for {column}\")\n",
    "\n",
    "df_copy.drop(['units', 'product', 'product-name'], axis=1, inplace=True)\n",
    "df_copy.head(1)"
   ]
  },
  {
   "cell_type": "markdown",
   "metadata": {},
   "source": [
    "1. 1 unique values for units\n",
    "2. 1 unique values for product\n",
    "3. 1 unique values for product-name\n",
    "\n",
    "Jadi kita bisa remove kolom unit, product, dan product-name"
   ]
  },
  {
   "cell_type": "code",
   "execution_count": 43,
   "metadata": {},
   "outputs": [
    {
     "name": "stdout",
     "output_type": "stream",
     "text": [
      "52 unique values for duoarea\n",
      "52 unique values for area-name\n",
      "52 unique value if we concat duoarea and area-name\n"
     ]
    }
   ],
   "source": [
    "for column in ['duoarea', 'area-name'] :\n",
    "    print(f\"{df_copy[column].nunique()} unique values for {column}\")\n",
    "print(f\"{( df_copy['duoarea'] + df_copy['area-name'] ).nunique()} unique value if we concat duoarea and area-name\")"
   ]
  },
  {
   "cell_type": "markdown",
   "metadata": {},
   "source": [
    "1. 52 unique values for duoarea\n",
    "2. 52 unique values for area-name\n",
    "3. 52 unique value if we concat duoarea and area-name\n",
    "\n",
    "Kedua kolom memiliki nilai unik yang sama, jadi kita bisa remove 'duorea'"
   ]
  },
  {
   "cell_type": "code",
   "execution_count": 44,
   "metadata": {},
   "outputs": [
    {
     "data": {
      "text/html": [
       "<div>\n",
       "<style scoped>\n",
       "    .dataframe tbody tr th:only-of-type {\n",
       "        vertical-align: middle;\n",
       "    }\n",
       "\n",
       "    .dataframe tbody tr th {\n",
       "        vertical-align: top;\n",
       "    }\n",
       "\n",
       "    .dataframe thead th {\n",
       "        text-align: right;\n",
       "    }\n",
       "</style>\n",
       "<table border=\"1\" class=\"dataframe\">\n",
       "  <thead>\n",
       "    <tr style=\"text-align: right;\">\n",
       "      <th></th>\n",
       "      <th>year</th>\n",
       "      <th>month</th>\n",
       "      <th>area-name</th>\n",
       "      <th>process</th>\n",
       "      <th>process-name</th>\n",
       "      <th>series</th>\n",
       "      <th>series-description</th>\n",
       "      <th>value</th>\n",
       "      <th>year_month</th>\n",
       "    </tr>\n",
       "  </thead>\n",
       "  <tbody>\n",
       "    <tr>\n",
       "      <th>0</th>\n",
       "      <td>2014</td>\n",
       "      <td>1</td>\n",
       "      <td>FLORIDA</td>\n",
       "      <td>VCS</td>\n",
       "      <td>Commercial Consumption</td>\n",
       "      <td>N3020FL2</td>\n",
       "      <td>Natural Gas Deliveries to Commercial Consumers...</td>\n",
       "      <td>6605.0</td>\n",
       "      <td>2014-01</td>\n",
       "    </tr>\n",
       "  </tbody>\n",
       "</table>\n",
       "</div>"
      ],
      "text/plain": [
       "   year  month area-name process            process-name    series  \\\n",
       "0  2014      1   FLORIDA     VCS  Commercial Consumption  N3020FL2   \n",
       "\n",
       "                                  series-description   value year_month  \n",
       "0  Natural Gas Deliveries to Commercial Consumers...  6605.0    2014-01  "
      ]
     },
     "execution_count": 44,
     "metadata": {},
     "output_type": "execute_result"
    }
   ],
   "source": [
    "df_copy.drop('duoarea', axis=1, inplace=True)\n",
    "df_copy.head(1)"
   ]
  },
  {
   "cell_type": "code",
   "execution_count": 45,
   "metadata": {},
   "outputs": [
    {
     "name": "stdout",
     "output_type": "stream",
     "text": [
      "8 unique values for process\n",
      "8 unique values for process-name\n",
      "8 unique value if we concat'process' and 'process-name'\n"
     ]
    }
   ],
   "source": [
    "for column in ['process', 'process-name'] :\n",
    "    print(f\"{df_copy[column].nunique()} unique values for {column}\")\n",
    "print(f\"{( df_copy['process'] + df_copy['process-name'] ).nunique()} unique value if we concat'process' and 'process-name'\")"
   ]
  },
  {
   "cell_type": "markdown",
   "metadata": {},
   "source": [
    "1. 8 unique values for process\n",
    "2. 8 unique values for process-name\n",
    "3. 8 unique value if we concat'process' and 'process-name'\n",
    "\n",
    "Kedua kolom memiliki nilai unik yang sama, jadi kita bisa remove 'process'"
   ]
  },
  {
   "cell_type": "code",
   "execution_count": 46,
   "metadata": {},
   "outputs": [
    {
     "data": {
      "text/html": [
       "<div>\n",
       "<style scoped>\n",
       "    .dataframe tbody tr th:only-of-type {\n",
       "        vertical-align: middle;\n",
       "    }\n",
       "\n",
       "    .dataframe tbody tr th {\n",
       "        vertical-align: top;\n",
       "    }\n",
       "\n",
       "    .dataframe thead th {\n",
       "        text-align: right;\n",
       "    }\n",
       "</style>\n",
       "<table border=\"1\" class=\"dataframe\">\n",
       "  <thead>\n",
       "    <tr style=\"text-align: right;\">\n",
       "      <th></th>\n",
       "      <th>year</th>\n",
       "      <th>month</th>\n",
       "      <th>area-name</th>\n",
       "      <th>process-name</th>\n",
       "      <th>series</th>\n",
       "      <th>series-description</th>\n",
       "      <th>value</th>\n",
       "      <th>year_month</th>\n",
       "    </tr>\n",
       "  </thead>\n",
       "  <tbody>\n",
       "    <tr>\n",
       "      <th>0</th>\n",
       "      <td>2014</td>\n",
       "      <td>1</td>\n",
       "      <td>FLORIDA</td>\n",
       "      <td>Commercial Consumption</td>\n",
       "      <td>N3020FL2</td>\n",
       "      <td>Natural Gas Deliveries to Commercial Consumers...</td>\n",
       "      <td>6605.0</td>\n",
       "      <td>2014-01</td>\n",
       "    </tr>\n",
       "  </tbody>\n",
       "</table>\n",
       "</div>"
      ],
      "text/plain": [
       "   year  month area-name            process-name    series  \\\n",
       "0  2014      1   FLORIDA  Commercial Consumption  N3020FL2   \n",
       "\n",
       "                                  series-description   value year_month  \n",
       "0  Natural Gas Deliveries to Commercial Consumers...  6605.0    2014-01  "
      ]
     },
     "execution_count": 46,
     "metadata": {},
     "output_type": "execute_result"
    }
   ],
   "source": [
    "df_copy.drop('process', axis=1, inplace=True)\n",
    "df_copy.head(1)"
   ]
  },
  {
   "cell_type": "code",
   "execution_count": 47,
   "metadata": {},
   "outputs": [
    {
     "name": "stdout",
     "output_type": "stream",
     "text": [
      "314 unique values for series\n",
      "314 unique values for series-description\n",
      "314 unique value if we concat'series' and 'series-description'\n"
     ]
    }
   ],
   "source": [
    "for column in ['series', 'series-description'] :\n",
    "    print(f\"{df_copy[column].nunique()} unique values for {column}\")\n",
    "print(f\"{( df_copy['series'] + df_copy['series-description'] ).nunique()} unique value if we concat'series' and 'series-description'\")"
   ]
  },
  {
   "cell_type": "markdown",
   "metadata": {},
   "source": [
    "1. 313 unique values for series\n",
    "2. 313 unique values for series-description\n",
    "3. 313 unique value if we concat'series' and 'series-description'\n",
    "\n",
    "Remove \"series\", dan simpan \"series-description\""
   ]
  },
  {
   "cell_type": "code",
   "execution_count": 48,
   "metadata": {},
   "outputs": [
    {
     "data": {
      "text/html": [
       "<div>\n",
       "<style scoped>\n",
       "    .dataframe tbody tr th:only-of-type {\n",
       "        vertical-align: middle;\n",
       "    }\n",
       "\n",
       "    .dataframe tbody tr th {\n",
       "        vertical-align: top;\n",
       "    }\n",
       "\n",
       "    .dataframe thead th {\n",
       "        text-align: right;\n",
       "    }\n",
       "</style>\n",
       "<table border=\"1\" class=\"dataframe\">\n",
       "  <thead>\n",
       "    <tr style=\"text-align: right;\">\n",
       "      <th></th>\n",
       "      <th>year</th>\n",
       "      <th>month</th>\n",
       "      <th>area-name</th>\n",
       "      <th>process-name</th>\n",
       "      <th>series-description</th>\n",
       "      <th>value</th>\n",
       "      <th>year_month</th>\n",
       "    </tr>\n",
       "  </thead>\n",
       "  <tbody>\n",
       "    <tr>\n",
       "      <th>0</th>\n",
       "      <td>2014</td>\n",
       "      <td>1</td>\n",
       "      <td>FLORIDA</td>\n",
       "      <td>Commercial Consumption</td>\n",
       "      <td>Natural Gas Deliveries to Commercial Consumers...</td>\n",
       "      <td>6605.0</td>\n",
       "      <td>2014-01</td>\n",
       "    </tr>\n",
       "  </tbody>\n",
       "</table>\n",
       "</div>"
      ],
      "text/plain": [
       "   year  month area-name            process-name  \\\n",
       "0  2014      1   FLORIDA  Commercial Consumption   \n",
       "\n",
       "                                  series-description   value year_month  \n",
       "0  Natural Gas Deliveries to Commercial Consumers...  6605.0    2014-01  "
      ]
     },
     "execution_count": 48,
     "metadata": {},
     "output_type": "execute_result"
    }
   ],
   "source": [
    "df_copy.drop('series', axis=1, inplace=True)\n",
    "df_copy.head(1)"
   ]
  },
  {
   "cell_type": "markdown",
   "metadata": {},
   "source": [
    "Jadi kolom 'units', 'product', 'product-name', 'duoarea', 'process' dan 'series' telah di remove"
   ]
  },
  {
   "cell_type": "code",
   "execution_count": 49,
   "metadata": {},
   "outputs": [
    {
     "data": {
      "text/html": [
       "<div>\n",
       "<style scoped>\n",
       "    .dataframe tbody tr th:only-of-type {\n",
       "        vertical-align: middle;\n",
       "    }\n",
       "\n",
       "    .dataframe tbody tr th {\n",
       "        vertical-align: top;\n",
       "    }\n",
       "\n",
       "    .dataframe thead th {\n",
       "        text-align: right;\n",
       "    }\n",
       "</style>\n",
       "<table border=\"1\" class=\"dataframe\">\n",
       "  <thead>\n",
       "    <tr style=\"text-align: right;\">\n",
       "      <th></th>\n",
       "      <th>year</th>\n",
       "      <th>month</th>\n",
       "      <th>area</th>\n",
       "      <th>process</th>\n",
       "      <th>series</th>\n",
       "      <th>value</th>\n",
       "      <th>year_month</th>\n",
       "    </tr>\n",
       "  </thead>\n",
       "  <tbody>\n",
       "    <tr>\n",
       "      <th>0</th>\n",
       "      <td>2014</td>\n",
       "      <td>1</td>\n",
       "      <td>FLORIDA</td>\n",
       "      <td>Commercial Consumption</td>\n",
       "      <td>Natural Gas Deliveries to Commercial Consumers...</td>\n",
       "      <td>6605.0</td>\n",
       "      <td>2014-01</td>\n",
       "    </tr>\n",
       "  </tbody>\n",
       "</table>\n",
       "</div>"
      ],
      "text/plain": [
       "   year  month     area                 process  \\\n",
       "0  2014      1  FLORIDA  Commercial Consumption   \n",
       "\n",
       "                                              series   value year_month  \n",
       "0  Natural Gas Deliveries to Commercial Consumers...  6605.0    2014-01  "
      ]
     },
     "execution_count": 49,
     "metadata": {},
     "output_type": "execute_result"
    }
   ],
   "source": [
    "# Let's change the name of the columns.\n",
    "df_copy = df_copy.rename(mapper={'area-name': 'area',\n",
    "                       'process-name': 'process',\n",
    "                       'series-description': 'series'}, axis=1)\n",
    "df_copy.head(1)"
   ]
  },
  {
   "cell_type": "code",
   "execution_count": 54,
   "metadata": {},
   "outputs": [
    {
     "data": {
      "image/png": "[encoded data removed]",
      "text/plain": [
       "<Figure size 640x480 with 1 Axes>"
      ]
     },
     "metadata": {},
     "output_type": "display_data"
    }
   ],
   "source": [
    "fig, ax = plt.subplots()\n",
    "ax.set_title('value distribution')\n",
    "ax.plot(df_copy.index, df_copy['value'], linewidth=0.5)\n",
    "plt.show()"
   ]
  },
  {
   "cell_type": "code",
   "execution_count": null,
   "metadata": {},
   "outputs": [],
   "source": []
  }
 ],
 "metadata": {
  "kernelspec": {
   "display_name": "env",
   "language": "python",
   "name": "python3"
  },
  "language_info": {
   "codemirror_mode": {
    "name": "ipython",
    "version": 3
   },
   "file_extension": ".py",
   "mimetype": "text/x-python",
   "name": "python",
   "nbconvert_exporter": "python",
   "pygments_lexer": "ipython3",
   "version": "3.12.7"
  }
 },
 "nbformat": 4,
 "nbformat_minor": 2
}
