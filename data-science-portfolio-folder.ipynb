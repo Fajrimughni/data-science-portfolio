{
 "cells": [
  {
   "cell_type": "code",
   "execution_count": 1,
   "id": "323c52fb",
   "metadata": {},
   "outputs": [],
   "source": [
    "import os"
   ]
  },
  {
   "cell_type": "code",
   "execution_count": 2,
   "id": "a9313cb5",
   "metadata": {},
   "outputs": [],
   "source": [
    "structure = {\n",
    "    \"segmentasi-resep-indonesia\": [\n",
    "        \"README.md\", \"requirements.txt\", \"LICENSE\",\n",
    "        \"data/raw/\", \"data/processed/\",\n",
    "        \"notebooks/eda_clustering.ipynb\", \"notebooks/tfidf_preprocessing.ipynb\",\n",
    "        \"app/streamlit_app.py\",\n",
    "        \"images/cluster_plot.png\", \"images/app_screenshot.png\"\n",
    "    ],\n",
    "    \"analisis-jurnal-krisis-2008\": [\n",
    "        \"README.md\", \"requirements.txt\", \"LICENSE\",\n",
    "        \"data/corpus/\", \"data/processed_text/\",\n",
    "        \"notebooks/nlp_topic_modeling.ipynb\", \"notebooks/text_cleaning.ipynb\",\n",
    "        \"visualizations/wordclouds.png\", \"visualizations/topic_trend_plot.png\",\n",
    "        \"references/jurnal_utama.pdf\"\n",
    "    ]\n",
    "}"
   ]
  },
  {
   "cell_type": "code",
   "execution_count": 3,
   "id": "6580d183",
   "metadata": {},
   "outputs": [],
   "source": [
    "for project, files in structure.items():\n",
    "    for file in files:\n",
    "        path = os.path.join(project, file)\n",
    "        if path.endswith(\"/\"):\n",
    "            os.makedirs(path, exist_ok=True)\n",
    "        else:\n",
    "            os.makedirs(os.path.dirname(path), exist_ok=True)\n",
    "            with open(path, \"w\") as f:\n",
    "                pass"
   ]
  },
  {
   "cell_type": "code",
   "execution_count": null,
   "id": "09159857",
   "metadata": {},
   "outputs": [],
   "source": [
    "# Tambahkan README utama\n",
    "with open(\"README.md\", \"w\") as f:\n",
    "    f.write(\"# Data Science Portfolio\\n\")"
   ]
  }
 ],
 "metadata": {
  "kernelspec": {
   "display_name": "Python 3",
   "language": "python",
   "name": "python3"
  },
  "language_info": {
   "codemirror_mode": {
    "name": "ipython",
    "version": 3
   },
   "file_extension": ".py",
   "mimetype": "text/x-python",
   "name": "python",
   "nbconvert_exporter": "python",
   "pygments_lexer": "ipython3",
   "version": "3.12.3"
  }
 },
 "nbformat": 4,
 "nbformat_minor": 5
}
